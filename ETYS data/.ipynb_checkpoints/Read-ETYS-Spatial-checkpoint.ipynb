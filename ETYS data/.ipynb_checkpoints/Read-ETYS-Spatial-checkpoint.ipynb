{
 "cells": [
  {
   "cell_type": "markdown",
   "metadata": {},
   "source": [
    "# About\n",
    "\n",
    "The script reads the Electricity Demand components from the ETYS Spatial CSV file created by running SAS script \"Write_ETYS-Demands-CSV.sas\". It processes it to produce the CSV files required for the visualisation map."
   ]
  },
  {
   "cell_type": "code",
   "execution_count": 12,
   "metadata": {},
   "outputs": [
    {
     "name": "stdout",
     "output_type": "stream",
     "text": [
      "  scenario    GSP  DemandPk  DemandAM  DemandPM type  year\n",
      "0       SP  ABHA1    70.149    27.455    47.595    C    19\n",
      "1       SP  ABHA1    70.912    27.754    48.113    C    20\n",
      "2       SP  ABHA1    71.497    27.983    48.510    C    21\n",
      "3       SP  ABHA1    71.974    28.170    48.834    C    22\n",
      "4       SP  ABHA1    72.314    28.302    49.064    C    23\n",
      "5       SP  ABHA1    72.688    28.449    49.317    C    24\n",
      "6       SP  ABHA1    72.970    28.559    49.509    C    25\n",
      "7       SP  ABHA1    73.172    28.638    49.646    C    26\n",
      "8       SP  ABHA1    73.399    28.727    49.800    C    27\n",
      "9       SP  ABHA1    73.573    28.795    49.918    C    28\n"
     ]
    }
   ],
   "source": [
    "import pandas as pd\n",
    "\n",
    "# Read in the CSV to \"df_csv\"\n",
    "df_csv = pd.read_csv(\"/home/rob/workNG/regional-fes-resources/ETYS data/Input/active.csv\")\n",
    "print(df_csv.head(10))"
   ]
  },
  {
   "cell_type": "code",
   "execution_count": 13,
   "metadata": {},
   "outputs": [],
   "source": [
    "for category in [\"C\", \"R\"]:\n",
    "    for scenario in [\"SP\", \"CT\", \"ST\", \"LW\"]:\n",
    "        # Create df as a filter of df_csv\n",
    "        df = df_csv[(df_csv['scenario'] == scenario) & (df_csv['type'] == category)].drop(columns=['DemandAM', 'DemandPM'])\n",
    "        df['year'] = df['year'] + 2000\n",
    "        \n",
    "        # Pivot to have years across the top\n",
    "        df = df.pivot(index='GSP', columns='year', values='DemandPk')\n",
    "        \n",
    "        # We don't currently have geographic regions for all GSPs. For now let's just sum up certain rows.\n",
    "        df.loc['ABHA1;ABNE_P'] = df.loc['ABHA1'] + df.loc['ABNE_P']\n",
    "        df.drop(['ABHA1', 'ABNE_P'], inplace=True)\n",
    "        \n",
    "        # Export to CSV\n",
    "        filename = scenario + \"-DemandPk-\" + category + \".csv\"\n",
    "        df.to_csv(\"/home/rob/workNG/regional-fes-resources/ETYS data/Output/\" + filename, index=True, float_format='%.3f')"
   ]
  },
  {
   "cell_type": "code",
   "execution_count": null,
   "metadata": {},
   "outputs": [],
   "source": []
  }
 ],
 "metadata": {
  "kernelspec": {
   "display_name": "Python 3",
   "language": "python",
   "name": "python3"
  },
  "language_info": {
   "codemirror_mode": {
    "name": "ipython",
    "version": 3
   },
   "file_extension": ".py",
   "mimetype": "text/x-python",
   "name": "python",
   "nbconvert_exporter": "python",
   "pygments_lexer": "ipython3",
   "version": "3.8.5"
  }
 },
 "nbformat": 4,
 "nbformat_minor": 4
}
