{
 "cells": [
  {
   "cell_type": "markdown",
   "metadata": {},
   "source": [
    "# About\n",
    "The 2019 GSPs file has some elements that need adjusting."
   ]
  },
  {
   "cell_type": "code",
   "execution_count": 5,
   "metadata": {},
   "outputs": [],
   "source": [
    "#input file\n",
    "fin = open(\"./GSP.geojson\", \"rt\")\n",
    "\n",
    "#output file to write the result to\n",
    "fout = open(\"./GSP_post.geojson\", \"wt\")\n",
    "\n",
    "#for each line in the input file\n",
    "for line in fin:\n",
    "    \n",
    "    #read replace the string and write to output file\n",
    "    fout.write(line.replace(\"RICH1\", \"RICH1;RICH_J\")) #New Richborough GSP (NGET) alonside old one (OFTO).\n",
    "    \n",
    "#close input and output files\n",
    "fin.close()\n",
    "fout.close()"
   ]
  },
  {
   "cell_type": "code",
   "execution_count": null,
   "metadata": {},
   "outputs": [],
   "source": []
  }
 ],
 "metadata": {
  "kernelspec": {
   "display_name": "Python 3",
   "language": "python",
   "name": "python3"
  },
  "language_info": {
   "codemirror_mode": {
    "name": "ipython",
    "version": 3
   },
   "file_extension": ".py",
   "mimetype": "text/x-python",
   "name": "python",
   "nbconvert_exporter": "python",
   "pygments_lexer": "ipython3",
   "version": "3.8.5"
  }
 },
 "nbformat": 4,
 "nbformat_minor": 4
}
