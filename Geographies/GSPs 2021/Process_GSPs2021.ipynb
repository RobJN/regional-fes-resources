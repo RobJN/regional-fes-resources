{
 "cells": [
  {
   "cell_type": "markdown",
   "metadata": {},
   "source": [
    "# About\n",
    "The 2019 GSPs file has some elements that need adjusting."
   ]
  },
  {
   "cell_type": "code",
   "execution_count": 1,
   "metadata": {},
   "outputs": [],
   "source": [
    "# Create copy of file\n",
    "import shutil\n",
    "shutil.copyfile(\"../GSPs 2019/Cleaned100_a_dGSP.geojson\", \"./GSP_2021_v1.geojson\")\n",
    "\n",
    "#input file\n",
    "fin = open(\"./GSP_2021_v1.geojson\", \"rt\")\n",
    "\n",
    "#read file contents to string\n",
    "data = fin.read()\n",
    "\n",
    "#replace all occurrences of the required string\n",
    "data = data.replace(\"RICH1\", \"RICH1;RICH_J\") #New Richborough GSP (NGET) alonside old one (OFTO).\n",
    "data = data.replace(\"CARR_1;CARR_2\", \"CARR_1\") #There is no CARR_2 GSP.\n",
    "data = data.replace(\"ELST_1;ELST_2;ELST_3\", \"ELST_1\") #There is no ELST_2 or ELST_3 GSP. \n",
    "data = data.replace(\"NEWX_6;NEWX_7\", \"NEWX_6\") #There is no NEWX_7 GSP. \n",
    "data = data.replace(\"TILBB_1;TILBB_2\", \"TILBB_1\") #There is no TILBB_2 GSP.\n",
    "data = data.replace(\"TONG\", \"TONG;CAFA;EAST;GLLE;KEOO\") #We don't have geographies for the Galloway Hydros so add them all to Tongland.\n",
    "data = data.replace(\"FERRB1\", \"FERRB1;FERRB_M\") #Historically FERRB1 was FERRB_M.\n",
    "data = data.replace(\"BRFO_1\", \"BRFO_1;CLT03\") #Merge the embedded offshore wind site GSP \"CLT03\" to Bramford.\n",
    "data = data.replace(\"COWL_1\", \"COWL_1;ECLA_H\") #Merging these are we have no specific region for ECLA_H.\n",
    "data = data.replace(\"WHAM_1\", \"WHAM_1;ISLI_1\") #We don't yet have a region for the new Islington GSP.\n",
    "data = data.replace(\"HEYS_1;HEYS1\", \"HEYS_1;HEYS1;ORMO\") #Add embeeded offshore wind OFTO to Heysham\n",
    "data = data.replace(\"WISH\", \"WISH;RAVE\") #We have no geographu for RAVE so include it in WISH.\n",
    "data = data.replace(\"HARK_1;HUTT_1\", \"HARK_1;HUTT_1;RRIG\") #Add Robin Rigg Offshore Wind OFTO to Harker/Hutton.\n",
    "data = data.replace(\"NORM_1\", \"NORM_1;SALL1\") #Merge embedded offshore wind to Norwich Main.\n",
    "data = data.replace(\"CONQA1\", \"CONQA1;SASA\") #Merge embedded offshore wind to CONQA1.\n",
    "data = data.replace(\"PENW_1;STAH_1\", \"PENW_1;STAH_1;WABO\") # Merge embedded offshore wind to Stannah.\n",
    "\n",
    "#close the input file\n",
    "fin.close()\n",
    "\n",
    "#open the input file in write mode\n",
    "fin = open(\"./GSP_2021_v1.geojson\", \"wt\")\n",
    "\n",
    "#overrite the input file with the resulting data\n",
    "fin.write(data)\n",
    "\n",
    "#close the file\n",
    "fin.close()\n"
   ]
  },
  {
   "cell_type": "code",
   "execution_count": null,
   "metadata": {},
   "outputs": [],
   "source": []
  }
 ],
 "metadata": {
  "kernelspec": {
   "display_name": "Python 3",
   "language": "python",
   "name": "python3"
  },
  "language_info": {
   "codemirror_mode": {
    "name": "ipython",
    "version": 3
   },
   "file_extension": ".py",
   "mimetype": "text/x-python",
   "name": "python",
   "nbconvert_exporter": "python",
   "pygments_lexer": "ipython3",
   "version": "3.8.5"
  }
 },
 "nbformat": 4,
 "nbformat_minor": 4
}
